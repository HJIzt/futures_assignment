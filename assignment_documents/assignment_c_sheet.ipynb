{
 "cells": [
  {
   "cell_type": "markdown",
   "metadata": {},
   "source": [
    "# FRE 501 Assignment 1: Part C\n",
    "\n",
    "In Part B, we calculated annual roll yield by taking the within-month price changes and adding them up. \n",
    "\n",
    "In Part C, we will use a different method of calculating annual roll yield. Here, we will take our overall values, and subtract the \"cumulative gap\" to get our profit. We did this for you, by subtracting the gaps between the starting day of each month and the last day of the prior month\n"
   ]
  },
  {
   "cell_type": "code",
   "execution_count": 1,
   "metadata": {},
   "outputs": [],
   "source": [
    "# import needed packages\n",
    "\n",
    "import numpy as np\n",
    "import pandas as pd\n",
    "import matplotlib.pyplot as plt\n",
    "import seaborn as sns"
   ]
  },
  {
   "cell_type": "markdown",
   "metadata": {},
   "source": [
    "### (i): Data Import"
   ]
  },
  {
   "cell_type": "code",
   "execution_count": 5,
   "metadata": {},
   "outputs": [
    {
     "data": {
      "text/html": [
       "<div>\n",
       "<style scoped>\n",
       "    .dataframe tbody tr th:only-of-type {\n",
       "        vertical-align: middle;\n",
       "    }\n",
       "\n",
       "    .dataframe tbody tr th {\n",
       "        vertical-align: top;\n",
       "    }\n",
       "\n",
       "    .dataframe thead th {\n",
       "        text-align: right;\n",
       "    }\n",
       "</style>\n",
       "<table border=\"1\" class=\"dataframe\">\n",
       "  <thead>\n",
       "    <tr style=\"text-align: right;\">\n",
       "      <th></th>\n",
       "      <th>Time</th>\n",
       "      <th>future_price</th>\n",
       "    </tr>\n",
       "  </thead>\n",
       "  <tbody>\n",
       "    <tr>\n",
       "      <th>0</th>\n",
       "      <td>2016-09-22</td>\n",
       "      <td>621.50</td>\n",
       "    </tr>\n",
       "    <tr>\n",
       "      <th>1</th>\n",
       "      <td>2016-09-23</td>\n",
       "      <td>621.00</td>\n",
       "    </tr>\n",
       "    <tr>\n",
       "      <th>2</th>\n",
       "      <td>2016-09-26</td>\n",
       "      <td>614.25</td>\n",
       "    </tr>\n",
       "    <tr>\n",
       "      <th>3</th>\n",
       "      <td>2016-09-27</td>\n",
       "      <td>609.50</td>\n",
       "    </tr>\n",
       "    <tr>\n",
       "      <th>4</th>\n",
       "      <td>2016-09-28</td>\n",
       "      <td>600.00</td>\n",
       "    </tr>\n",
       "  </tbody>\n",
       "</table>\n",
       "</div>"
      ],
      "text/plain": [
       "         Time  future_price\n",
       "0  2016-09-22        621.50\n",
       "1  2016-09-23        621.00\n",
       "2  2016-09-26        614.25\n",
       "3  2016-09-27        609.50\n",
       "4  2016-09-28        600.00"
      ]
     },
     "execution_count": 5,
     "metadata": {},
     "output_type": "execute_result"
    }
   ],
   "source": [
    "# palm forward curve data\n",
    "\n",
    "# load url and adjust as path\n",
    "url = \"https://drive.google.com/file/d/1zS3nRVeqxTyd9e4-XwSoAwvQCYmp2VCk/view?usp=sharing\"\n",
    "path = \"https://drive.google.com/uc?export=download&id=\"+url.split('/')[-2]\n",
    "\n",
    "# import then open first rows\n",
    "palm_futures = pd.read_csv(path, sep = \"\\t\") \n",
    "palm_futures.head()"
   ]
  },
  {
   "cell_type": "code",
   "execution_count": 6,
   "metadata": {},
   "outputs": [
    {
     "data": {
      "text/html": [
       "<div>\n",
       "<style scoped>\n",
       "    .dataframe tbody tr th:only-of-type {\n",
       "        vertical-align: middle;\n",
       "    }\n",
       "\n",
       "    .dataframe tbody tr th {\n",
       "        vertical-align: top;\n",
       "    }\n",
       "\n",
       "    .dataframe thead th {\n",
       "        text-align: right;\n",
       "    }\n",
       "</style>\n",
       "<table border=\"1\" class=\"dataframe\">\n",
       "  <thead>\n",
       "    <tr style=\"text-align: right;\">\n",
       "      <th></th>\n",
       "      <th>Time</th>\n",
       "      <th>future_price</th>\n",
       "    </tr>\n",
       "  </thead>\n",
       "  <tbody>\n",
       "    <tr>\n",
       "      <th>1734</th>\n",
       "      <td>2023-08-15</td>\n",
       "      <td>825.25</td>\n",
       "    </tr>\n",
       "    <tr>\n",
       "      <th>1735</th>\n",
       "      <td>2023-08-16</td>\n",
       "      <td>828.50</td>\n",
       "    </tr>\n",
       "    <tr>\n",
       "      <th>1736</th>\n",
       "      <td>2023-08-17</td>\n",
       "      <td>835.75</td>\n",
       "    </tr>\n",
       "    <tr>\n",
       "      <th>1737</th>\n",
       "      <td>2023-08-18</td>\n",
       "      <td>831.50</td>\n",
       "    </tr>\n",
       "    <tr>\n",
       "      <th>1738</th>\n",
       "      <td>2023-08-21</td>\n",
       "      <td>836.00</td>\n",
       "    </tr>\n",
       "  </tbody>\n",
       "</table>\n",
       "</div>"
      ],
      "text/plain": [
       "            Time  future_price\n",
       "1734  2023-08-15        825.25\n",
       "1735  2023-08-16        828.50\n",
       "1736  2023-08-17        835.75\n",
       "1737  2023-08-18        831.50\n",
       "1738  2023-08-21        836.00"
      ]
     },
     "execution_count": 6,
     "metadata": {},
     "output_type": "execute_result"
    }
   ],
   "source": [
    "palm_futures.tail()"
   ]
  },
  {
   "cell_type": "code",
   "execution_count": 7,
   "metadata": {},
   "outputs": [
    {
     "data": {
      "text/html": [
       "<div>\n",
       "<style scoped>\n",
       "    .dataframe tbody tr th:only-of-type {\n",
       "        vertical-align: middle;\n",
       "    }\n",
       "\n",
       "    .dataframe tbody tr th {\n",
       "        vertical-align: top;\n",
       "    }\n",
       "\n",
       "    .dataframe thead th {\n",
       "        text-align: right;\n",
       "    }\n",
       "</style>\n",
       "<table border=\"1\" class=\"dataframe\">\n",
       "  <thead>\n",
       "    <tr style=\"text-align: right;\">\n",
       "      <th></th>\n",
       "      <th>Time</th>\n",
       "      <th>Month</th>\n",
       "      <th>cum_gap</th>\n",
       "    </tr>\n",
       "  </thead>\n",
       "  <tbody>\n",
       "    <tr>\n",
       "      <th>0</th>\n",
       "      <td>2019-01-02</td>\n",
       "      <td>2019-01</td>\n",
       "      <td>0.0</td>\n",
       "    </tr>\n",
       "    <tr>\n",
       "      <th>1</th>\n",
       "      <td>2019-01-03</td>\n",
       "      <td>2019-01</td>\n",
       "      <td>0.0</td>\n",
       "    </tr>\n",
       "    <tr>\n",
       "      <th>2</th>\n",
       "      <td>2019-01-04</td>\n",
       "      <td>2019-01</td>\n",
       "      <td>0.0</td>\n",
       "    </tr>\n",
       "    <tr>\n",
       "      <th>3</th>\n",
       "      <td>2019-01-07</td>\n",
       "      <td>2019-01</td>\n",
       "      <td>0.0</td>\n",
       "    </tr>\n",
       "    <tr>\n",
       "      <th>4</th>\n",
       "      <td>2019-01-08</td>\n",
       "      <td>2019-01</td>\n",
       "      <td>0.0</td>\n",
       "    </tr>\n",
       "  </tbody>\n",
       "</table>\n",
       "</div>"
      ],
      "text/plain": [
       "         Time    Month  cum_gap\n",
       "0  2019-01-02  2019-01      0.0\n",
       "1  2019-01-03  2019-01      0.0\n",
       "2  2019-01-04  2019-01      0.0\n",
       "3  2019-01-07  2019-01      0.0\n",
       "4  2019-01-08  2019-01      0.0"
      ]
     },
     "execution_count": 7,
     "metadata": {},
     "output_type": "execute_result"
    }
   ],
   "source": [
    "# cumulative gap data\n",
    "\n",
    "url = \"https://drive.google.com/file/d/1t-rW7-_mAGQGK1PudTOFhtVB34KBttQC/view?usp=sharing\"\n",
    "path = \"https://drive.google.com/uc?export=download&id=\"+url.split('/')[-2]\n",
    "\n",
    "\n",
    "# import cumulative gap then open first rows\n",
    "cumulative_gap = pd.read_csv(path)\n",
    "cumulative_gap.drop(\"Unnamed: 0\", axis = 1, inplace=True)\n",
    "cumulative_gap.head()"
   ]
  },
  {
   "cell_type": "code",
   "execution_count": 8,
   "metadata": {},
   "outputs": [
    {
     "data": {
      "text/html": [
       "<div>\n",
       "<style scoped>\n",
       "    .dataframe tbody tr th:only-of-type {\n",
       "        vertical-align: middle;\n",
       "    }\n",
       "\n",
       "    .dataframe tbody tr th {\n",
       "        vertical-align: top;\n",
       "    }\n",
       "\n",
       "    .dataframe thead th {\n",
       "        text-align: right;\n",
       "    }\n",
       "</style>\n",
       "<table border=\"1\" class=\"dataframe\">\n",
       "  <thead>\n",
       "    <tr style=\"text-align: right;\">\n",
       "      <th></th>\n",
       "      <th>Time</th>\n",
       "      <th>Month</th>\n",
       "      <th>cum_gap</th>\n",
       "    </tr>\n",
       "  </thead>\n",
       "  <tbody>\n",
       "    <tr>\n",
       "      <th>1162</th>\n",
       "      <td>2023-08-15</td>\n",
       "      <td>2023-08</td>\n",
       "      <td>-70.75</td>\n",
       "    </tr>\n",
       "    <tr>\n",
       "      <th>1163</th>\n",
       "      <td>2023-08-16</td>\n",
       "      <td>2023-08</td>\n",
       "      <td>-70.75</td>\n",
       "    </tr>\n",
       "    <tr>\n",
       "      <th>1164</th>\n",
       "      <td>2023-08-17</td>\n",
       "      <td>2023-08</td>\n",
       "      <td>-70.75</td>\n",
       "    </tr>\n",
       "    <tr>\n",
       "      <th>1165</th>\n",
       "      <td>2023-08-18</td>\n",
       "      <td>2023-08</td>\n",
       "      <td>-70.75</td>\n",
       "    </tr>\n",
       "    <tr>\n",
       "      <th>1166</th>\n",
       "      <td>2023-08-21</td>\n",
       "      <td>2023-08</td>\n",
       "      <td>-70.75</td>\n",
       "    </tr>\n",
       "  </tbody>\n",
       "</table>\n",
       "</div>"
      ],
      "text/plain": [
       "            Time    Month  cum_gap\n",
       "1162  2023-08-15  2023-08   -70.75\n",
       "1163  2023-08-16  2023-08   -70.75\n",
       "1164  2023-08-17  2023-08   -70.75\n",
       "1165  2023-08-18  2023-08   -70.75\n",
       "1166  2023-08-21  2023-08   -70.75"
      ]
     },
     "execution_count": 8,
     "metadata": {},
     "output_type": "execute_result"
    }
   ],
   "source": [
    "cumulative_gap.tail()"
   ]
  },
  {
   "cell_type": "markdown",
   "metadata": {},
   "source": [
    "### (ii): Data Join\n",
    "\n",
    "As you can see above, the `palm_futures` and `cumulative_gap` DataFrames cover different time periods, with `palm_futures` starting back in 2016 while `cumulative_gap` starts only in 2019. We'll use this as an opportunity to learn how to Join dataframes. \n",
    "\n",
    "Sometimes, different datasets will be exactly the same length and have data aligned perfectly in order. If you're very sure, you can just assign the new data as a column in the existing DataFrame.\n",
    "\n",
    "But this is not always the case; and sometimes you'll have a smaller dataset where each row applies to multiple rows, or just one, or none at all, in the main DataFrame. This is where the Pandas `.join()` and `pd.merge()` come in.\n",
    "\n",
    "`pd.merge()` takes two DataFrames, and the `on` argument. `on` must be a column with the same name in each DataFrame. `pd.merge()` puts the two datasets together into one, where rows with the same value in the `on` column are matched horizontally. \n",
    "\n",
    "`.join()` works similarly, but is a bit simpler, focused on joining DataFrames based on their index. You call it in the form `df_1.join(other = df2, on = \"column\")`, to Join `df2` onto `df1`. By default, it joins on the index of both, and you may want to use `.set_index(\"column\")` on the dataframes while calling this function.\n",
    "\n",
    "\n",
    "Either of these can work, but I'd recommend you use `merge()` for this case. \n",
    "\n",
    "### Create a new dataframe, and use `pd.merge()` or `.join()` to join `palm_futures` and `cumulative_gap` to get a dataframe with both data series. \n",
    "\n"
   ]
  },
  {
   "cell_type": "code",
   "execution_count": 5,
   "metadata": {},
   "outputs": [],
   "source": [
    "# pd.merge() baseline\n",
    "\n",
    "# pd.merge(df1, df2, on = \"column\")"
   ]
  },
  {
   "cell_type": "code",
   "execution_count": 6,
   "metadata": {},
   "outputs": [],
   "source": [
    "# .join() baseline\n",
    "\n",
    "# df1.set_index(\"column\").join(df2.set_index(\"column\"), on = \"column\")\n"
   ]
  },
  {
   "cell_type": "code",
   "execution_count": null,
   "metadata": {},
   "outputs": [],
   "source": []
  },
  {
   "cell_type": "markdown",
   "metadata": {},
   "source": [
    "Depending on your method, you may end up including values from before 2019. We have not calculated cumulative gap values before this time, so make sure to drop any values before 2019 if you need!\n",
    "\n",
    "The pandas `pd.to_datetime(df[\"column\"])` function can help, which turns the given column (like \"Time\") into a DateTime format. This lets us do things like filtering for values before 2019 through boolean comparisons in conditional formatting. "
   ]
  },
  {
   "cell_type": "code",
   "execution_count": 7,
   "metadata": {},
   "outputs": [],
   "source": [
    "# to_datetime() example if needed\n",
    "\n",
    "# df[\"column\"] = pd.to_datetime(df[\"column\"]) "
   ]
  },
  {
   "cell_type": "markdown",
   "metadata": {},
   "source": [
    "### (iii): Calculating Synthetic Curve\n",
    "\n",
    "With your joined dataframe, you can now subtract the cumulative month gaps from the price series, to get us our Synthetic Curve. Do this below:"
   ]
  },
  {
   "cell_type": "code",
   "execution_count": 8,
   "metadata": {},
   "outputs": [],
   "source": [
    "# calculate synthetic curve with column operation\n",
    "\n"
   ]
  },
  {
   "cell_type": "markdown",
   "metadata": {},
   "source": [
    "### (iv): Calculating Yearly Profits\n",
    "\n",
    "Now, take the first and last values of each year, and subtract the former from the latter. This should give yearly and total profit values equal to what we found in Part B.\n",
    "\n",
    "#### Hint!\n",
    "\n",
    "If you create a variable for year, with existing columns, you can use a `.groupby(\"column\")` command and the `.first()` and `.last()` functions to easily get yourself the first and last values of each year.\n",
    "\n",
    "You could also split the dataframe by year and use `.iloc[]`"
   ]
  },
  {
   "cell_type": "code",
   "execution_count": 9,
   "metadata": {},
   "outputs": [],
   "source": [
    "# make calculations\n",
    "\n"
   ]
  },
  {
   "cell_type": "markdown",
   "metadata": {},
   "source": [
    "###  (v): Display Profits\n",
    "\n",
    "Display the yearly and total profits, either with print statements or a bar plot."
   ]
  },
  {
   "cell_type": "code",
   "execution_count": null,
   "metadata": {},
   "outputs": [],
   "source": []
  }
 ],
 "metadata": {
  "kernelspec": {
   "display_name": "Python 3",
   "language": "python",
   "name": "python3"
  },
  "language_info": {
   "codemirror_mode": {
    "name": "ipython",
    "version": 3
   },
   "file_extension": ".py",
   "mimetype": "text/x-python",
   "name": "python",
   "nbconvert_exporter": "python",
   "pygments_lexer": "ipython3",
   "version": "3.10.11"
  },
  "orig_nbformat": 4
 },
 "nbformat": 4,
 "nbformat_minor": 2
}
