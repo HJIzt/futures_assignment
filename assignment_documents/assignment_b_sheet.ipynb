{
 "cells": [
  {
   "cell_type": "markdown",
   "metadata": {},
   "source": [
    "# FRE 501 Assignment 1: Part B\n"
   ]
  },
  {
   "cell_type": "code",
   "execution_count": null,
   "metadata": {},
   "outputs": [],
   "source": [
    "# import needed packages\n",
    "\n",
    "import numpy as np\n",
    "import pandas as pd\n",
    "import matplotlib.pyplot as plt\n",
    "import seaborn as sns"
   ]
  },
  {
   "cell_type": "code",
   "execution_count": null,
   "metadata": {},
   "outputs": [],
   "source": [
    "# column format data\n",
    "\n",
    "# load url and adjust as path\n",
    "url = \"https://drive.google.com/file/d/18SdzXz7w9a4yEIEsfrvF2dXTmLDJ-pSF/view?usp=sharing\"\n",
    "path = \"https://drive.google.com/uc?export=download&id=\"+url.split('/')[-2]\n",
    "\n",
    "# import then open first rows\n",
    "palm_futures_months = pd.read_csv(path)\n",
    "palm_futures_months.head(30)"
   ]
  },
  {
   "cell_type": "markdown",
   "metadata": {},
   "source": [
    "This time, we have each month's trading days until the contract ends as a column, aligned with the `trade_day` variable.\n",
    "\n",
    "You will be calculating monthly profits by subtracting each month's first value from its last. \n",
    "\n",
    "Then, you'll aggregate these by year (2019, 2020, 2021, 2022, 2023), and overall (2019-2023). Display these in a bar chart."
   ]
  },
  {
   "cell_type": "markdown",
   "metadata": {},
   "source": [
    "### (i): Calculating monthly profits\n",
    "\n",
    "As you can see, the months have different numbers of trading days due to varying lengths and the presence of weekends. You'll need a consistent way to access the first (easy) and last (not as easy) day of each month.\n",
    "\n",
    "Then subtract the first from the last, and save this monthly profit value. Make sure you have a way to associate the months of each year with each other!\n",
    "\n",
    "You might want to use a loop to make this easier.\n",
    "\n",
    "- Hint 1: You could try designing a function that accesses the first and last elements of a column, then using `.apply()` to apply it to each column of the DataFrame\n",
    "\n",
    "- Hint 2: You could also try looping through all columns\n",
    "\n",
    "- Hint 3: To add up by year in (ii), breaking up the DataFrame into smaller ones by year may help"
   ]
  },
  {
   "cell_type": "code",
   "execution_count": null,
   "metadata": {},
   "outputs": [],
   "source": []
  },
  {
   "cell_type": "code",
   "execution_count": null,
   "metadata": {},
   "outputs": [],
   "source": []
  },
  {
   "cell_type": "code",
   "execution_count": null,
   "metadata": {},
   "outputs": [],
   "source": []
  },
  {
   "cell_type": "markdown",
   "metadata": {},
   "source": [
    "### (ii): Aggregating by Year and Overall\n",
    "\n",
    "Now, add together all profit/loss values for 2019, 2020, 2021, 2022, and 2023 separately. \n",
    "\n",
    "And, then add all of these together to get overall profit."
   ]
  },
  {
   "cell_type": "code",
   "execution_count": null,
   "metadata": {},
   "outputs": [],
   "source": []
  },
  {
   "cell_type": "code",
   "execution_count": null,
   "metadata": {},
   "outputs": [],
   "source": []
  },
  {
   "cell_type": "markdown",
   "metadata": {},
   "source": [
    "### (iii): Plotting\n",
    "\n",
    "With your 2019-2023 and total profit values, make a bar plot using Matplotlib, Seaborn, or another Python data visualization method."
   ]
  },
  {
   "cell_type": "code",
   "execution_count": null,
   "metadata": {},
   "outputs": [],
   "source": []
  }
 ],
 "metadata": {
  "kernelspec": {
   "display_name": "Python 3",
   "language": "python",
   "name": "python3"
  },
  "language_info": {
   "codemirror_mode": {
    "name": "ipython",
    "version": 3
   },
   "file_extension": ".py",
   "mimetype": "text/x-python",
   "name": "python",
   "nbconvert_exporter": "python",
   "pygments_lexer": "ipython3",
   "version": "3.10.11"
  },
  "orig_nbformat": 4
 },
 "nbformat": 4,
 "nbformat_minor": 2
}
