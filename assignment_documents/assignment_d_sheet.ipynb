{
 "cells": [
  {
   "cell_type": "markdown",
   "metadata": {},
   "source": [
    "# FRE 501 Assignment 1: Part D\n",
    "\n",
    "Recall the Roll Yield Myth: that a buy-and-hold trading strategy causes instantaneous negative profits when the market is in Contango (with rising futures prices) and positive profits in Backwardation (with falling futures prices).\n",
    "\n",
    "In **Part A**, we  analyzed which years the market appeared to be in Contango, Backwardation, or ambiguous. \n",
    "\n",
    "In **Part B**, we calculated true yearly profits by totalling in-month, \"true\" profit values.\n",
    "\n",
    "In **Part C**, we calculated true yearly profits again by removing the cumulative monthly gaps from the observed market prices. This result was equal to what we found in Part B.\n",
    "\n",
    "Now, let's bring it all together. Is there any evidence that the continuous buy-and-hold strategy tends to cause negative profits when the market is in Contango, and positive profits in Backwardation?\n",
    "\n",
    "\n",
    "To answer this, we will do two approaches, one simple and one complex.\n",
    "\n",
    "1. Marking years as a whole as being in Contango, Backwardation, or Neither, correlate this with yearly profits.\n",
    "\n",
    "2. Calculate the correlation of monthly profits with monthly price gap.\n"
   ]
  },
  {
   "cell_type": "code",
   "execution_count": 8,
   "metadata": {},
   "outputs": [],
   "source": [
    "# import needed packages\n",
    "\n",
    "import numpy as np\n",
    "import pandas as pd\n",
    "import matplotlib.pyplot as plt\n",
    "import seaborn as sns"
   ]
  },
  {
   "cell_type": "markdown",
   "metadata": {},
   "source": [
    "### Data Import\n",
    "\n",
    "We'll be bringing in two DataFrames for this assignment. As well, you'll create two `pd.Series` data types of your own, based on your own observations."
   ]
  },
  {
   "cell_type": "code",
   "execution_count": 18,
   "metadata": {},
   "outputs": [
    {
     "data": {
      "text/html": [
       "<div>\n",
       "<style scoped>\n",
       "    .dataframe tbody tr th:only-of-type {\n",
       "        vertical-align: middle;\n",
       "    }\n",
       "\n",
       "    .dataframe tbody tr th {\n",
       "        vertical-align: top;\n",
       "    }\n",
       "\n",
       "    .dataframe thead th {\n",
       "        text-align: right;\n",
       "    }\n",
       "</style>\n",
       "<table border=\"1\" class=\"dataframe\">\n",
       "  <thead>\n",
       "    <tr style=\"text-align: right;\">\n",
       "      <th></th>\n",
       "      <th>Month</th>\n",
       "      <th>gap</th>\n",
       "    </tr>\n",
       "  </thead>\n",
       "  <tbody>\n",
       "    <tr>\n",
       "      <th>0</th>\n",
       "      <td>2019-01</td>\n",
       "      <td>0.00</td>\n",
       "    </tr>\n",
       "    <tr>\n",
       "      <th>1</th>\n",
       "      <td>2019-02</td>\n",
       "      <td>24.00</td>\n",
       "    </tr>\n",
       "    <tr>\n",
       "      <th>2</th>\n",
       "      <td>2019-03</td>\n",
       "      <td>-13.50</td>\n",
       "    </tr>\n",
       "    <tr>\n",
       "      <th>3</th>\n",
       "      <td>2019-04</td>\n",
       "      <td>-3.75</td>\n",
       "    </tr>\n",
       "    <tr>\n",
       "      <th>4</th>\n",
       "      <td>2019-05</td>\n",
       "      <td>-19.50</td>\n",
       "    </tr>\n",
       "  </tbody>\n",
       "</table>\n",
       "</div>"
      ],
      "text/plain": [
       "     Month    gap\n",
       "0  2019-01   0.00\n",
       "1  2019-02  24.00\n",
       "2  2019-03 -13.50\n",
       "3  2019-04  -3.75\n",
       "4  2019-05 -19.50"
      ]
     },
     "execution_count": 18,
     "metadata": {},
     "output_type": "execute_result"
    }
   ],
   "source": [
    "# gap data import\n",
    "\n",
    "# load url and adjust as path\n",
    "url = \"https://drive.google.com/file/d/1pbd1Si8yZiMIOeTiciaJ9H9SIyoU823e/view?usp=sharing\"\n",
    "path = \"https://drive.google.com/uc?export=download&id=\"+url.split('/')[-2]\n",
    "\n",
    "# import then open first rows\n",
    "gap = pd.read_csv(path)\n",
    "gap.head()"
   ]
  },
  {
   "cell_type": "code",
   "execution_count": 19,
   "metadata": {},
   "outputs": [
    {
     "data": {
      "text/html": [
       "<div>\n",
       "<style scoped>\n",
       "    .dataframe tbody tr th:only-of-type {\n",
       "        vertical-align: middle;\n",
       "    }\n",
       "\n",
       "    .dataframe tbody tr th {\n",
       "        vertical-align: top;\n",
       "    }\n",
       "\n",
       "    .dataframe thead th {\n",
       "        text-align: right;\n",
       "    }\n",
       "</style>\n",
       "<table border=\"1\" class=\"dataframe\">\n",
       "  <thead>\n",
       "    <tr style=\"text-align: right;\">\n",
       "      <th></th>\n",
       "      <th>Month</th>\n",
       "      <th>month_start</th>\n",
       "      <th>month_end</th>\n",
       "    </tr>\n",
       "  </thead>\n",
       "  <tbody>\n",
       "    <tr>\n",
       "      <th>0</th>\n",
       "      <td>2019-01</td>\n",
       "      <td>523.50</td>\n",
       "      <td>538.75</td>\n",
       "    </tr>\n",
       "    <tr>\n",
       "      <th>1</th>\n",
       "      <td>2019-02</td>\n",
       "      <td>562.75</td>\n",
       "      <td>551.00</td>\n",
       "    </tr>\n",
       "    <tr>\n",
       "      <th>2</th>\n",
       "      <td>2019-03</td>\n",
       "      <td>537.50</td>\n",
       "      <td>522.25</td>\n",
       "    </tr>\n",
       "    <tr>\n",
       "      <th>3</th>\n",
       "      <td>2019-04</td>\n",
       "      <td>518.50</td>\n",
       "      <td>526.50</td>\n",
       "    </tr>\n",
       "    <tr>\n",
       "      <th>4</th>\n",
       "      <td>2019-05</td>\n",
       "      <td>507.00</td>\n",
       "      <td>488.50</td>\n",
       "    </tr>\n",
       "  </tbody>\n",
       "</table>\n",
       "</div>"
      ],
      "text/plain": [
       "     Month  month_start  month_end\n",
       "0  2019-01       523.50     538.75\n",
       "1  2019-02       562.75     551.00\n",
       "2  2019-03       537.50     522.25\n",
       "3  2019-04       518.50     526.50\n",
       "4  2019-05       507.00     488.50"
      ]
     },
     "execution_count": 19,
     "metadata": {},
     "output_type": "execute_result"
    }
   ],
   "source": [
    "# month start and end values import\n",
    "# \n",
    "# https://drive.google.com/file/d/1RxG1HyhXf-LJI5Q0jsJtwLy2fnzzSF_6/view?usp=sharing\n",
    "\n",
    "url = \"https://drive.google.com/file/d/1RxG1HyhXf-LJI5Q0jsJtwLy2fnzzSF_6/view?usp=sharing\"\n",
    "path = \"https://drive.google.com/uc?export=download&id=\"+url.split('/')[-2]\n",
    "\n",
    "# import then open first rows\n",
    "month_start_end = pd.read_csv(path)\n",
    "month_start_end.head()"
   ]
  },
  {
   "cell_type": "markdown",
   "metadata": {},
   "source": [
    "### (i): A simple approach\n",
    "\n",
    "First, create a list called `year_profits`, equal to the profit or negative profits for each year that we calculated in Parts B and C.\n",
    "\n",
    "Then, create a list called `year_status`, then look back at the plots you made for Part A of the assignment. In order, add one of the following values:\n",
    "- 1 if the given year is in Contango\n",
    "- 0 if the given year's direction is ambiguous\n",
    "- -1 if the given year is in Backwardation\n",
    "\n",
    "Judgements may vary, and that's OK! \n",
    "\n",
    "\n",
    "For an example, say that 2019 made -1 profit, 2020 made 100 profit, and 2021 made 293 in profits. Then I'd assign this variable as:\n",
    "\n",
    "`year_profits = [-1, 100, 293]` \n",
    "\n",
    "If I believed 2019 was in Backwardation, 2020 was in Contango, and 2021 was Ambiguous, I'd assign `year_status` as:\n",
    "\n",
    "`year_status = [1, -1, 0]`\n",
    "\n",
    "Assign your variables below."
   ]
  },
  {
   "cell_type": "code",
   "execution_count": 11,
   "metadata": {},
   "outputs": [],
   "source": [
    "# assign year_profits\n",
    "\n",
    "\n",
    "\n",
    "# assign year_status\n",
    "\n"
   ]
  },
  {
   "cell_type": "markdown",
   "metadata": {},
   "source": [
    "Now, pass these into `pd.Series()` to transform them into the Pandas `Series` datatype, so we can calculate their correlation. Just reassign them as their own names. "
   ]
  },
  {
   "cell_type": "code",
   "execution_count": 12,
   "metadata": {},
   "outputs": [],
   "source": [
    "# assign Series values\n",
    "# var = pd.Series(var)\n",
    "\n"
   ]
  },
  {
   "cell_type": "markdown",
   "metadata": {},
   "source": [
    "Now you can calculate the correlation of year profits with year status with `series_1.corr(series_2)`"
   ]
  },
  {
   "cell_type": "code",
   "execution_count": null,
   "metadata": {},
   "outputs": [],
   "source": []
  },
  {
   "cell_type": "markdown",
   "metadata": {},
   "source": [
    "Explain your result. \n",
    "\n",
    "- What is the interpretation of the coefficient and its direction? \n",
    "\n",
    "- What does this suggest about the Roll Yield Myth?\n",
    "\n",
    "- Is this strong or weak evidence? Why?"
   ]
  },
  {
   "cell_type": "markdown",
   "metadata": {},
   "source": [
    "Write your answer below:\n",
    "\n",
    "\n"
   ]
  },
  {
   "cell_type": "markdown",
   "metadata": {},
   "source": []
  },
  {
   "cell_type": "markdown",
   "metadata": {},
   "source": [
    "### (ii): A better approach\n",
    "\n",
    "Now we will use the data we imported above, `month_start_end` and `gap`. Let's call `.head()` to remind ourselves what's in these DataFrames:"
   ]
  },
  {
   "cell_type": "code",
   "execution_count": 13,
   "metadata": {},
   "outputs": [
    {
     "data": {
      "text/html": [
       "<div>\n",
       "<style scoped>\n",
       "    .dataframe tbody tr th:only-of-type {\n",
       "        vertical-align: middle;\n",
       "    }\n",
       "\n",
       "    .dataframe tbody tr th {\n",
       "        vertical-align: top;\n",
       "    }\n",
       "\n",
       "    .dataframe thead th {\n",
       "        text-align: right;\n",
       "    }\n",
       "</style>\n",
       "<table border=\"1\" class=\"dataframe\">\n",
       "  <thead>\n",
       "    <tr style=\"text-align: right;\">\n",
       "      <th></th>\n",
       "      <th>Month</th>\n",
       "      <th>month_start</th>\n",
       "      <th>month_end</th>\n",
       "    </tr>\n",
       "  </thead>\n",
       "  <tbody>\n",
       "    <tr>\n",
       "      <th>0</th>\n",
       "      <td>2019-01</td>\n",
       "      <td>523.50</td>\n",
       "      <td>538.75</td>\n",
       "    </tr>\n",
       "    <tr>\n",
       "      <th>1</th>\n",
       "      <td>2019-02</td>\n",
       "      <td>562.75</td>\n",
       "      <td>551.00</td>\n",
       "    </tr>\n",
       "    <tr>\n",
       "      <th>2</th>\n",
       "      <td>2019-03</td>\n",
       "      <td>537.50</td>\n",
       "      <td>522.25</td>\n",
       "    </tr>\n",
       "    <tr>\n",
       "      <th>3</th>\n",
       "      <td>2019-04</td>\n",
       "      <td>518.50</td>\n",
       "      <td>526.50</td>\n",
       "    </tr>\n",
       "    <tr>\n",
       "      <th>4</th>\n",
       "      <td>2019-05</td>\n",
       "      <td>507.00</td>\n",
       "      <td>488.50</td>\n",
       "    </tr>\n",
       "  </tbody>\n",
       "</table>\n",
       "</div>"
      ],
      "text/plain": [
       "     Month  month_start  month_end\n",
       "0  2019-01       523.50     538.75\n",
       "1  2019-02       562.75     551.00\n",
       "2  2019-03       537.50     522.25\n",
       "3  2019-04       518.50     526.50\n",
       "4  2019-05       507.00     488.50"
      ]
     },
     "execution_count": 13,
     "metadata": {},
     "output_type": "execute_result"
    }
   ],
   "source": [
    "month_start_end.head()"
   ]
  },
  {
   "cell_type": "code",
   "execution_count": 14,
   "metadata": {},
   "outputs": [
    {
     "data": {
      "text/html": [
       "<div>\n",
       "<style scoped>\n",
       "    .dataframe tbody tr th:only-of-type {\n",
       "        vertical-align: middle;\n",
       "    }\n",
       "\n",
       "    .dataframe tbody tr th {\n",
       "        vertical-align: top;\n",
       "    }\n",
       "\n",
       "    .dataframe thead th {\n",
       "        text-align: right;\n",
       "    }\n",
       "</style>\n",
       "<table border=\"1\" class=\"dataframe\">\n",
       "  <thead>\n",
       "    <tr style=\"text-align: right;\">\n",
       "      <th></th>\n",
       "      <th>Month</th>\n",
       "      <th>gap</th>\n",
       "    </tr>\n",
       "  </thead>\n",
       "  <tbody>\n",
       "    <tr>\n",
       "      <th>0</th>\n",
       "      <td>2019-01</td>\n",
       "      <td>0.00</td>\n",
       "    </tr>\n",
       "    <tr>\n",
       "      <th>1</th>\n",
       "      <td>2019-02</td>\n",
       "      <td>24.00</td>\n",
       "    </tr>\n",
       "    <tr>\n",
       "      <th>2</th>\n",
       "      <td>2019-03</td>\n",
       "      <td>-13.50</td>\n",
       "    </tr>\n",
       "    <tr>\n",
       "      <th>3</th>\n",
       "      <td>2019-04</td>\n",
       "      <td>-3.75</td>\n",
       "    </tr>\n",
       "    <tr>\n",
       "      <th>4</th>\n",
       "      <td>2019-05</td>\n",
       "      <td>-19.50</td>\n",
       "    </tr>\n",
       "  </tbody>\n",
       "</table>\n",
       "</div>"
      ],
      "text/plain": [
       "     Month    gap\n",
       "0  2019-01   0.00\n",
       "1  2019-02  24.00\n",
       "2  2019-03 -13.50\n",
       "3  2019-04  -3.75\n",
       "4  2019-05 -19.50"
      ]
     },
     "execution_count": 14,
     "metadata": {},
     "output_type": "execute_result"
    }
   ],
   "source": [
    "gap.head()"
   ]
  },
  {
   "cell_type": "markdown",
   "metadata": {},
   "source": [
    "These are at the Month level. `month_start_end` has the first and last values in each month of data, while `gap` has the gap between that month's starting values and the previous month's ending value. \n",
    "\n",
    "Your directions are to do the following:\n",
    "\n",
    "1. Join or Merge the datasets together, on the `Month` column.\n",
    "2. Calculate within-month profits.\n",
    "3. Calculate the correlation of month profits and `gap`, and display it in the notebook.\n"
   ]
  },
  {
   "cell_type": "code",
   "execution_count": 15,
   "metadata": {},
   "outputs": [],
   "source": [
    "# join or merge\n",
    "\n"
   ]
  },
  {
   "cell_type": "code",
   "execution_count": 16,
   "metadata": {},
   "outputs": [],
   "source": [
    "# calculate within-month profits\n",
    "\n"
   ]
  },
  {
   "cell_type": "code",
   "execution_count": 17,
   "metadata": {},
   "outputs": [],
   "source": [
    "# calculate and display monthly profits~gap correlation\n",
    "\n"
   ]
  },
  {
   "cell_type": "markdown",
   "metadata": {},
   "source": [
    "Discuss your results in this section. \n",
    "\n",
    "- Do they match the results in the \"simple approach\" section?\n",
    "\n",
    "- Do they provide evidence for, or against, the Roll Yield Myth? How strong is this evidence?\n",
    "\n",
    "- In total, what is your assessment based on our results? Do you think we have sufficient evidence to conclude either way?\n",
    "\n",
    "Write your answers to these questions below:"
   ]
  },
  {
   "cell_type": "markdown",
   "metadata": {},
   "source": []
  }
 ],
 "metadata": {
  "kernelspec": {
   "display_name": "Python 3",
   "language": "python",
   "name": "python3"
  },
  "language_info": {
   "codemirror_mode": {
    "name": "ipython",
    "version": 3
   },
   "file_extension": ".py",
   "mimetype": "text/x-python",
   "name": "python",
   "nbconvert_exporter": "python",
   "pygments_lexer": "ipython3",
   "version": "3.10.11"
  },
  "orig_nbformat": 4
 },
 "nbformat": 4,
 "nbformat_minor": 2
}
