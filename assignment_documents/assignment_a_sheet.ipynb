{
 "cells": [
  {
   "cell_type": "markdown",
   "metadata": {},
   "source": [
    "# FRE 501 Assignment 1: Part A\n",
    "\n",
    "In this first part of Assignment 1, you will be analyzing a DataFrame containing palm oil futures contracts from 2019-2023. \n",
    "\n",
    "Each column is a specific contract, for a palm future with a given delivery date, while each row represents one trading day. Because the month columns are in chronological order from left to right, slicing out one row gives us the path of palm oil future prices, known as the \"Forward Curve.\"\n",
    "\n",
    "Using this data, you will slice out specific days from each year, and then plot these Forward Curves to visually estimate if the market is in Contango (with rising futures prices) or Backwardation (declining futures prices).\n",
    "\n",
    "**NOTE**: You may find it easier to work by breaking your code up between cells, to run them individually. In Colab, click \"Insert\" at the top of the screen, then \"Code Cell\" to add one below your current cell."
   ]
  },
  {
   "cell_type": "code",
   "execution_count": null,
   "metadata": {},
   "outputs": [],
   "source": [
    "# import needed packages\n",
    "\n",
    "import numpy as np\n",
    "import pandas as pd\n",
    "import matplotlib.pyplot as plt\n",
    "import seaborn as sns"
   ]
  },
  {
   "cell_type": "markdown",
   "metadata": {},
   "source": [
    "### (i): Data Import "
   ]
  },
  {
   "cell_type": "code",
   "execution_count": null,
   "metadata": {},
   "outputs": [],
   "source": [
    "# palm forward curve data\n",
    "\n",
    "# load url and adjust as path\n",
    "url = \"https://drive.google.com/file/d/1utmW8amlpxSsz1v4GBnf8nefqo9oDEds/view?usp=sharing\"\n",
    "path = \"https://drive.google.com/uc?export=download&id=\"+url.split('/')[-2]\n",
    "\n",
    "# import then open first rows\n",
    "palm_futures = pd.read_csv(path)\n",
    "palm_futures.drop(\"Unnamed: 0\", axis = 1, inplace = True)\n",
    "palm_futures.head()"
   ]
  },
  {
   "cell_type": "markdown",
   "metadata": {},
   "source": [
    "As you can see, each row is one trading day. The columns correspond to the commodity (`cu`), the month of expiration (the middle letter, like `f` for January), and the year of expiration (e.g. `19` for 2019).\n",
    "\n",
    "So, `cuf19` means \"Palm oil, in January, 2019\"."
   ]
  },
  {
   "cell_type": "markdown",
   "metadata": {},
   "source": [
    "### (ii): Filtering\n",
    "\n",
    "Using the conditional filtering we learned in the Python summer workshops, create DataFrames for March and September 15th in each year.\n",
    "\n",
    "- the 15th of the month may be a weekend, so in that case use the nearest available day\n",
    "- 2023 doesn't have September data, so just take March for this year\n"
   ]
  },
  {
   "cell_type": "code",
   "execution_count": null,
   "metadata": {},
   "outputs": [],
   "source": []
  },
  {
   "cell_type": "markdown",
   "metadata": {},
   "source": [
    "### (iii): Transformation\n",
    "\n",
    "Transform the data so that the column names are trading dates, and the row names are the number of months to expiration. This may involve:\n",
    "\n",
    "- Row selection\n",
    "- Transposing the data (done with `.T`)\n",
    "- Removal of NaN values\n",
    "\n",
    "Finally, end each variable after 12 observations, or as many are available."
   ]
  },
  {
   "cell_type": "code",
   "execution_count": null,
   "metadata": {},
   "outputs": [],
   "source": []
  },
  {
   "cell_type": "markdown",
   "metadata": {},
   "source": [
    "### (iv): Setting relative to 0\n",
    "\n",
    "For each column, take its first observation and subtract this from all rows in the column. This should set the first row to zero, and all others to their difference from the first row. \n",
    "\n",
    "#### Hint!\n",
    "This can be done with column operations and `.iloc[]` selection, or just observation of the first column value."
   ]
  },
  {
   "cell_type": "code",
   "execution_count": null,
   "metadata": {},
   "outputs": [],
   "source": []
  },
  {
   "cell_type": "markdown",
   "metadata": {},
   "source": [
    "### (v): Plotting Forward Curves\n",
    "\n",
    "With these data columns, make a plot for each year, from 2019 to 2023. Each year plot will contain a line plot of the forward curves observed in March and September (if available).\n",
    "\n",
    "I'd recommend using Matplotlib for this. You might use the following as a skeleton for your plot, inputting arguments as needed:\n",
    "\n",
    "#### Set up plot\n",
    "`plt.figure()`\n",
    "`plt.title()`\n",
    "`plt.xlabel()`\n",
    "`plt.ylabel()`\n",
    "\n",
    "#### Plot input data series\n",
    "`plt.plot()`\n",
    "    \n",
    "#### Display the plot\n",
    "`plt.legend()`\n",
    "`plt.show()`\n",
    "\n",
    "\n",
    "\n",
    "#### Stretch Goal\n",
    "\n",
    "For experienced programmers looking for a challenge, try creating the plots in a loop format to iterate through each year and plot the data for it. Or, try making a general function where you input the year and needed datasets and it makes all needed adjustments."
   ]
  },
  {
   "cell_type": "code",
   "execution_count": null,
   "metadata": {},
   "outputs": [],
   "source": []
  },
  {
   "cell_type": "markdown",
   "metadata": {},
   "source": [
    "### (vi): Visual Analysis\n",
    "\n",
    "Create a table, or write in note form below, your assessment of if the market is in Contango, Backwardation, or Ambiguous states in each month and year. "
   ]
  },
  {
   "cell_type": "markdown",
   "metadata": {},
   "source": []
  },
  {
   "cell_type": "code",
   "execution_count": null,
   "metadata": {},
   "outputs": [],
   "source": []
  }
 ],
 "metadata": {
  "kernelspec": {
   "display_name": "Python 3",
   "language": "python",
   "name": "python3"
  },
  "language_info": {
   "codemirror_mode": {
    "name": "ipython",
    "version": 3
   },
   "file_extension": ".py",
   "mimetype": "text/x-python",
   "name": "python",
   "nbconvert_exporter": "python",
   "pygments_lexer": "ipython3",
   "version": "3.10.11"
  },
  "orig_nbformat": 4
 },
 "nbformat": 4,
 "nbformat_minor": 2
}
