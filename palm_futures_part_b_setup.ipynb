{
 "cells": [
  {
   "cell_type": "markdown",
   "metadata": {},
   "source": [
    "# Palm Oil Futures: Part B Setup\n",
    "\n",
    "I need to first get the \"all to left\" dataframe. Then, I'll group by Month and take First and Last values. \n",
    "\n",
    "For each month, I'll calculate its gap against the previous month's end. This will then be turned into a cumulative gap by adding them up, which can be joined to the main dataframe."
   ]
  },
  {
   "cell_type": "code",
   "execution_count": 61,
   "metadata": {},
   "outputs": [],
   "source": [
    "import matplotlib.pyplot as plt\n",
    "import numpy as np\n",
    "import pandas as pd"
   ]
  },
  {
   "cell_type": "code",
   "execution_count": 62,
   "metadata": {},
   "outputs": [],
   "source": [
    "# bring in data with path for either work or home computer, then filter to 2019 onwards and set index as Time\n",
    "\n",
    "# palm_futures = pd.read_csv(\"C:/Users/jonah/Documents/A_MFRE_work_from_home/501/futures_assignment/shift_left.csv\")\n",
    "\n",
    "palm_futures = pd.read_csv(\"C:/Users/jizatt/Documents/Courses/FRE_501/futures_contracts/futures_assignment/shift_left.csv\")\n",
    "\n",
    "palm_futures = palm_futures[palm_futures[\"Time\"] >= \"2019-01-01\"]\n",
    "\n",
    "palm_futures.set_index(\"Time\", inplace = True)\n",
    "\n",
    "palm_futures.rename(columns={\"cuf19\": \"price\"}, inplace = True)"
   ]
  },
  {
   "cell_type": "code",
   "execution_count": 63,
   "metadata": {},
   "outputs": [
    {
     "data": {
      "text/html": [
       "<div>\n",
       "<style scoped>\n",
       "    .dataframe tbody tr th:only-of-type {\n",
       "        vertical-align: middle;\n",
       "    }\n",
       "\n",
       "    .dataframe tbody tr th {\n",
       "        vertical-align: top;\n",
       "    }\n",
       "\n",
       "    .dataframe thead th {\n",
       "        text-align: right;\n",
       "    }\n",
       "</style>\n",
       "<table border=\"1\" class=\"dataframe\">\n",
       "  <thead>\n",
       "    <tr style=\"text-align: right;\">\n",
       "      <th></th>\n",
       "      <th>price</th>\n",
       "    </tr>\n",
       "    <tr>\n",
       "      <th>Time</th>\n",
       "      <th></th>\n",
       "    </tr>\n",
       "  </thead>\n",
       "  <tbody>\n",
       "    <tr>\n",
       "      <th>2019-01-02</th>\n",
       "      <td>523.50</td>\n",
       "    </tr>\n",
       "    <tr>\n",
       "      <th>2019-01-03</th>\n",
       "      <td>519.25</td>\n",
       "    </tr>\n",
       "    <tr>\n",
       "      <th>2019-01-04</th>\n",
       "      <td>524.50</td>\n",
       "    </tr>\n",
       "    <tr>\n",
       "      <th>2019-01-07</th>\n",
       "      <td>524.75</td>\n",
       "    </tr>\n",
       "    <tr>\n",
       "      <th>2019-01-08</th>\n",
       "      <td>528.75</td>\n",
       "    </tr>\n",
       "  </tbody>\n",
       "</table>\n",
       "</div>"
      ],
      "text/plain": [
       "             price\n",
       "Time              \n",
       "2019-01-02  523.50\n",
       "2019-01-03  519.25\n",
       "2019-01-04  524.50\n",
       "2019-01-07  524.75\n",
       "2019-01-08  528.75"
      ]
     },
     "execution_count": 63,
     "metadata": {},
     "output_type": "execute_result"
    }
   ],
   "source": [
    "palm_futures.head()"
   ]
  },
  {
   "cell_type": "code",
   "execution_count": 64,
   "metadata": {},
   "outputs": [
    {
     "name": "stdout",
     "output_type": "stream",
     "text": [
      "DataFrame is ordered in ascending 'Time' order.\n"
     ]
    }
   ],
   "source": [
    "# Convert the index to datetime format\n",
    "palm_futures.index = pd.to_datetime(palm_futures.index)\n",
    "\n",
    "# Check if the index is ordered in ascending \"Time\" order\n",
    "is_ordered = palm_futures.index.is_monotonic_increasing\n",
    "\n",
    "if is_ordered:\n",
    "    print(\"DataFrame is ordered in ascending 'Time' order.\")\n",
    "else:\n",
    "    print(\"DataFrame is not ordered in ascending 'Time' order.\")\n",
    "    \n",
    "# create Month column for Group By, Merging\n",
    "palm_futures['Month'] = palm_futures.index.strftime('%Y-%m')"
   ]
  },
  {
   "cell_type": "code",
   "execution_count": 65,
   "metadata": {},
   "outputs": [
    {
     "data": {
      "text/plain": [
       "Month\n",
       "2019-01    15.25\n",
       "2019-02   -11.75\n",
       "2019-03   -15.25\n",
       "2019-04     8.00\n",
       "2019-05   -18.50\n",
       "Name: price, dtype: float64"
      ]
     },
     "execution_count": 65,
     "metadata": {},
     "output_type": "execute_result"
    }
   ],
   "source": [
    "# create dataframes of first and last trading days in each month\n",
    "\n",
    "month_firsts  = palm_futures.groupby(\"Month\").first()\n",
    "month_lasts = palm_futures.groupby(\"Month\").last()\n",
    "\n",
    "# calculate profits over the month\n",
    "month_profits = month_lasts[\"price\"] - month_firsts[\"price\"]\n",
    "\n",
    "month_profits.head()"
   ]
  },
  {
   "cell_type": "code",
   "execution_count": 66,
   "metadata": {},
   "outputs": [
    {
     "data": {
      "text/plain": [
       "383.25"
      ]
     },
     "execution_count": 66,
     "metadata": {},
     "output_type": "execute_result"
    }
   ],
   "source": [
    "# sum total monthly profits, for fun:\n",
    "\n",
    "month_profits.sum()"
   ]
  },
  {
   "cell_type": "markdown",
   "metadata": {},
   "source": [
    "Quick Peek at roll yield myth supposed profit: "
   ]
  },
  {
   "cell_type": "code",
   "execution_count": 67,
   "metadata": {},
   "outputs": [
    {
     "data": {
      "text/plain": [
       "Month\n",
       "2023-08    836.0\n",
       "Name: price, dtype: float64"
      ]
     },
     "execution_count": 67,
     "metadata": {},
     "output_type": "execute_result"
    }
   ],
   "source": [
    "month_lasts[\"price\"].tail(1)"
   ]
  },
  {
   "cell_type": "code",
   "execution_count": 68,
   "metadata": {},
   "outputs": [
    {
     "data": {
      "text/plain": [
       "Month\n",
       "2019-01    523.5\n",
       "Name: price, dtype: float64"
      ]
     },
     "execution_count": 68,
     "metadata": {},
     "output_type": "execute_result"
    }
   ],
   "source": [
    "month_firsts[\"price\"].head(1)"
   ]
  },
  {
   "cell_type": "code",
   "execution_count": 69,
   "metadata": {},
   "outputs": [
    {
     "data": {
      "text/plain": [
       "312.5"
      ]
     },
     "execution_count": 69,
     "metadata": {},
     "output_type": "execute_result"
    }
   ],
   "source": [
    "836.0 - 523.5"
   ]
  },
  {
   "attachments": {},
   "cell_type": "markdown",
   "metadata": {},
   "source": [
    "# Calculating Synthetic Curve\n",
    "\n",
    "The prices we observe for futures are not true representation of profits and gains from holding the asset in the long-term, due to the Roll Yield, which represents storage costs (when a positive cost) or a convenience premium for deferring commodity use (when a negative cost, or profit). \n",
    "\n",
    "We want to calculate the Synthetic Curve, which represents the actual path of profits, with gains or losses over time. \n",
    "\n",
    "\n",
    "`Price = Base Price + Within-Month Profit + Between-Month Gaps`\n",
    "\n",
    "Both of these are cumulative over time. So there are actually two valid approaches to get the Synthetic Curve:\n",
    "\n",
    "1. `Synthetic Curve` = `Price - Between-Month Gaps`\n",
    "\n",
    "In this case, we would take each Month(i) end value and the Month(i+1) start value, and subtract the former from the latter to get their gap. We then cumulatively sum all month gaps and join these onto the main prices dataframe, and subtract the cumulative gap value from the real price curve. \n",
    "\n",
    "Since we've removed the `Between-Month Gaps`, we've got the part of the overall `Price` that's equal to the `Base Price` (which doesn't particularly matter for future monthly changes) and the `Within-Month Profit`, which we are actually interested in \n",
    "\n",
    "\n",
    "2. `Synthetic Curve` = `Base Price + Within-Month Profit`\n",
    "\n",
    "There's another way we can calculate the Synthetic Curve, which is simpler conceptually, if not computationally. \n",
    "\n",
    "We have: \n",
    "\n",
    "`Price = Base Price + Within-Month Profit + Between-Month Gaps`\n",
    "\n",
    "`Synthetic Curve = Price - Between-Month Gaps`\n",
    "\n",
    "What if we substitute `Price` into `Synthetic Curve`?\n",
    "\n",
    "`Synthetic Curve = Base Price + Within-Month Profit + Between-Month Gaps - Between-Month Gaps`\n",
    "\n",
    "`Synthetic Curve = Base Price + Within-Month Profit`\n",
    "\n",
    "So, if we take the base price at the start of the observation period (2019), and then add just the `Within-Month Profit` values, then we'd also get the Synthetic Curve.\n",
    "\n",
    "\n",
    "The problem with Approach 2 is that it's easy to calculate the End-Start values for each month, and even join these to a dataframe and add them to base price, but getting the daily shifts (without the between-month shifts) is very difficult. As a result, we'll focus on removing the between-month gaps. "
   ]
  },
  {
   "cell_type": "markdown",
   "metadata": {},
   "source": [
    "### Calculating Monthly Profits\n",
    "\n",
    "Might as well!"
   ]
  },
  {
   "cell_type": "code",
   "execution_count": 70,
   "metadata": {},
   "outputs": [
    {
     "data": {
      "text/html": [
       "<div>\n",
       "<style scoped>\n",
       "    .dataframe tbody tr th:only-of-type {\n",
       "        vertical-align: middle;\n",
       "    }\n",
       "\n",
       "    .dataframe tbody tr th {\n",
       "        vertical-align: top;\n",
       "    }\n",
       "\n",
       "    .dataframe thead th {\n",
       "        text-align: right;\n",
       "    }\n",
       "</style>\n",
       "<table border=\"1\" class=\"dataframe\">\n",
       "  <thead>\n",
       "    <tr style=\"text-align: right;\">\n",
       "      <th></th>\n",
       "      <th>price</th>\n",
       "      <th>cum_profit</th>\n",
       "      <th>monthly_synthetic_curve</th>\n",
       "    </tr>\n",
       "    <tr>\n",
       "      <th>Month</th>\n",
       "      <th></th>\n",
       "      <th></th>\n",
       "      <th></th>\n",
       "    </tr>\n",
       "  </thead>\n",
       "  <tbody>\n",
       "    <tr>\n",
       "      <th>2019-01</th>\n",
       "      <td>523.50</td>\n",
       "      <td>15.25</td>\n",
       "      <td>538.75</td>\n",
       "    </tr>\n",
       "    <tr>\n",
       "      <th>2019-02</th>\n",
       "      <td>562.75</td>\n",
       "      <td>3.50</td>\n",
       "      <td>527.00</td>\n",
       "    </tr>\n",
       "    <tr>\n",
       "      <th>2019-03</th>\n",
       "      <td>537.50</td>\n",
       "      <td>-11.75</td>\n",
       "      <td>511.75</td>\n",
       "    </tr>\n",
       "    <tr>\n",
       "      <th>2019-04</th>\n",
       "      <td>518.50</td>\n",
       "      <td>-3.75</td>\n",
       "      <td>519.75</td>\n",
       "    </tr>\n",
       "    <tr>\n",
       "      <th>2019-05</th>\n",
       "      <td>507.00</td>\n",
       "      <td>-22.25</td>\n",
       "      <td>501.25</td>\n",
       "    </tr>\n",
       "  </tbody>\n",
       "</table>\n",
       "</div>"
      ],
      "text/plain": [
       "          price  cum_profit  monthly_synthetic_curve\n",
       "Month                                               \n",
       "2019-01  523.50       15.25                   538.75\n",
       "2019-02  562.75        3.50                   527.00\n",
       "2019-03  537.50      -11.75                   511.75\n",
       "2019-04  518.50       -3.75                   519.75\n",
       "2019-05  507.00      -22.25                   501.25"
      ]
     },
     "execution_count": 70,
     "metadata": {},
     "output_type": "execute_result"
    }
   ],
   "source": [
    "# copy month first dataframe\n",
    "month_synth_prof = month_firsts.copy()\n",
    "\n",
    "# create cumulative profit with cumulative sum of `month_profits`, the within-month profit values\n",
    "month_synth_prof[\"cum_profit\"] = month_profits.cumsum()\n",
    "\n",
    "# calculate monthly synthetic curve\n",
    "month_synth_prof[\"monthly_synthetic_curve\"] = month_synth_prof[\"cum_profit\"] + 523.5\n",
    "\n",
    "month_synth_prof.head()"
   ]
  },
  {
   "cell_type": "markdown",
   "metadata": {},
   "source": [
    "### Approach 1: `Synthetic Curve` = `Price - Between-Month Gaps`\n",
    "\n",
    "We will calculate the monthly gaps with `Month (i) First Value` - `Month (i-1) Last Value`. The first of these will be a `NaN` by default, and we replace it with 0. \n",
    "\n",
    "With these gaps, we will take a cumulative sum, and then merge them back onto the original `palm_futures` dataset at the monthly level, and subtract them from the original price series to get our `synthetic_curve`"
   ]
  },
  {
   "cell_type": "code",
   "execution_count": 71,
   "metadata": {},
   "outputs": [
    {
     "data": {
      "text/plain": [
       "(56, 1)"
      ]
     },
     "execution_count": 71,
     "metadata": {},
     "output_type": "execute_result"
    }
   ],
   "source": [
    "month_firsts.shape"
   ]
  },
  {
   "cell_type": "code",
   "execution_count": 72,
   "metadata": {},
   "outputs": [
    {
     "data": {
      "text/plain": [
       "(56, 1)"
      ]
     },
     "execution_count": 72,
     "metadata": {},
     "output_type": "execute_result"
    }
   ],
   "source": [
    "month_lasts.shape"
   ]
  },
  {
   "cell_type": "code",
   "execution_count": 73,
   "metadata": {},
   "outputs": [],
   "source": [
    "month_gap = month_firsts.merge(month_lasts, on = \"Month\")\n",
    "\n",
    "month_gap.rename(columns={'price_x': 'month_start', 'price_y': 'month_end'}, inplace=True)\n"
   ]
  },
  {
   "cell_type": "code",
   "execution_count": 74,
   "metadata": {},
   "outputs": [
    {
     "data": {
      "text/html": [
       "<div>\n",
       "<style scoped>\n",
       "    .dataframe tbody tr th:only-of-type {\n",
       "        vertical-align: middle;\n",
       "    }\n",
       "\n",
       "    .dataframe tbody tr th {\n",
       "        vertical-align: top;\n",
       "    }\n",
       "\n",
       "    .dataframe thead th {\n",
       "        text-align: right;\n",
       "    }\n",
       "</style>\n",
       "<table border=\"1\" class=\"dataframe\">\n",
       "  <thead>\n",
       "    <tr style=\"text-align: right;\">\n",
       "      <th></th>\n",
       "      <th>month_start</th>\n",
       "      <th>month_end</th>\n",
       "    </tr>\n",
       "    <tr>\n",
       "      <th>Month</th>\n",
       "      <th></th>\n",
       "      <th></th>\n",
       "    </tr>\n",
       "  </thead>\n",
       "  <tbody>\n",
       "    <tr>\n",
       "      <th>2019-01</th>\n",
       "      <td>523.50</td>\n",
       "      <td>538.75</td>\n",
       "    </tr>\n",
       "    <tr>\n",
       "      <th>2019-02</th>\n",
       "      <td>562.75</td>\n",
       "      <td>551.00</td>\n",
       "    </tr>\n",
       "    <tr>\n",
       "      <th>2019-03</th>\n",
       "      <td>537.50</td>\n",
       "      <td>522.25</td>\n",
       "    </tr>\n",
       "    <tr>\n",
       "      <th>2019-04</th>\n",
       "      <td>518.50</td>\n",
       "      <td>526.50</td>\n",
       "    </tr>\n",
       "    <tr>\n",
       "      <th>2019-05</th>\n",
       "      <td>507.00</td>\n",
       "      <td>488.50</td>\n",
       "    </tr>\n",
       "  </tbody>\n",
       "</table>\n",
       "</div>"
      ],
      "text/plain": [
       "         month_start  month_end\n",
       "Month                          \n",
       "2019-01       523.50     538.75\n",
       "2019-02       562.75     551.00\n",
       "2019-03       537.50     522.25\n",
       "2019-04       518.50     526.50\n",
       "2019-05       507.00     488.50"
      ]
     },
     "execution_count": 74,
     "metadata": {},
     "output_type": "execute_result"
    }
   ],
   "source": [
    "month_gap.head()"
   ]
  },
  {
   "cell_type": "code",
   "execution_count": 75,
   "metadata": {},
   "outputs": [
    {
     "data": {
      "text/html": [
       "<div>\n",
       "<style scoped>\n",
       "    .dataframe tbody tr th:only-of-type {\n",
       "        vertical-align: middle;\n",
       "    }\n",
       "\n",
       "    .dataframe tbody tr th {\n",
       "        vertical-align: top;\n",
       "    }\n",
       "\n",
       "    .dataframe thead th {\n",
       "        text-align: right;\n",
       "    }\n",
       "</style>\n",
       "<table border=\"1\" class=\"dataframe\">\n",
       "  <thead>\n",
       "    <tr style=\"text-align: right;\">\n",
       "      <th></th>\n",
       "      <th>month_start</th>\n",
       "      <th>month_end</th>\n",
       "      <th>lag_end</th>\n",
       "    </tr>\n",
       "    <tr>\n",
       "      <th>Month</th>\n",
       "      <th></th>\n",
       "      <th></th>\n",
       "      <th></th>\n",
       "    </tr>\n",
       "  </thead>\n",
       "  <tbody>\n",
       "    <tr>\n",
       "      <th>2019-01</th>\n",
       "      <td>523.50</td>\n",
       "      <td>538.75</td>\n",
       "      <td>NaN</td>\n",
       "    </tr>\n",
       "    <tr>\n",
       "      <th>2019-02</th>\n",
       "      <td>562.75</td>\n",
       "      <td>551.00</td>\n",
       "      <td>538.75</td>\n",
       "    </tr>\n",
       "    <tr>\n",
       "      <th>2019-03</th>\n",
       "      <td>537.50</td>\n",
       "      <td>522.25</td>\n",
       "      <td>551.00</td>\n",
       "    </tr>\n",
       "    <tr>\n",
       "      <th>2019-04</th>\n",
       "      <td>518.50</td>\n",
       "      <td>526.50</td>\n",
       "      <td>522.25</td>\n",
       "    </tr>\n",
       "    <tr>\n",
       "      <th>2019-05</th>\n",
       "      <td>507.00</td>\n",
       "      <td>488.50</td>\n",
       "      <td>526.50</td>\n",
       "    </tr>\n",
       "  </tbody>\n",
       "</table>\n",
       "</div>"
      ],
      "text/plain": [
       "         month_start  month_end  lag_end\n",
       "Month                                   \n",
       "2019-01       523.50     538.75      NaN\n",
       "2019-02       562.75     551.00   538.75\n",
       "2019-03       537.50     522.25   551.00\n",
       "2019-04       518.50     526.50   522.25\n",
       "2019-05       507.00     488.50   526.50"
      ]
     },
     "execution_count": 75,
     "metadata": {},
     "output_type": "execute_result"
    }
   ],
   "source": [
    "month_gap[\"lag_end\"] = month_gap[\"month_end\"].shift(1)\n",
    "\n",
    "month_gap.head()"
   ]
  },
  {
   "cell_type": "code",
   "execution_count": 76,
   "metadata": {},
   "outputs": [
    {
     "data": {
      "text/html": [
       "<div>\n",
       "<style scoped>\n",
       "    .dataframe tbody tr th:only-of-type {\n",
       "        vertical-align: middle;\n",
       "    }\n",
       "\n",
       "    .dataframe tbody tr th {\n",
       "        vertical-align: top;\n",
       "    }\n",
       "\n",
       "    .dataframe thead th {\n",
       "        text-align: right;\n",
       "    }\n",
       "</style>\n",
       "<table border=\"1\" class=\"dataframe\">\n",
       "  <thead>\n",
       "    <tr style=\"text-align: right;\">\n",
       "      <th></th>\n",
       "      <th>month_start</th>\n",
       "      <th>month_end</th>\n",
       "      <th>lag_end</th>\n",
       "      <th>gap</th>\n",
       "      <th>cum_gap</th>\n",
       "    </tr>\n",
       "    <tr>\n",
       "      <th>Month</th>\n",
       "      <th></th>\n",
       "      <th></th>\n",
       "      <th></th>\n",
       "      <th></th>\n",
       "      <th></th>\n",
       "    </tr>\n",
       "  </thead>\n",
       "  <tbody>\n",
       "    <tr>\n",
       "      <th>2019-01</th>\n",
       "      <td>523.50</td>\n",
       "      <td>538.75</td>\n",
       "      <td>NaN</td>\n",
       "      <td>0.00</td>\n",
       "      <td>0.00</td>\n",
       "    </tr>\n",
       "    <tr>\n",
       "      <th>2019-02</th>\n",
       "      <td>562.75</td>\n",
       "      <td>551.00</td>\n",
       "      <td>538.75</td>\n",
       "      <td>24.00</td>\n",
       "      <td>24.00</td>\n",
       "    </tr>\n",
       "    <tr>\n",
       "      <th>2019-03</th>\n",
       "      <td>537.50</td>\n",
       "      <td>522.25</td>\n",
       "      <td>551.00</td>\n",
       "      <td>-13.50</td>\n",
       "      <td>10.50</td>\n",
       "    </tr>\n",
       "    <tr>\n",
       "      <th>2019-04</th>\n",
       "      <td>518.50</td>\n",
       "      <td>526.50</td>\n",
       "      <td>522.25</td>\n",
       "      <td>-3.75</td>\n",
       "      <td>6.75</td>\n",
       "    </tr>\n",
       "    <tr>\n",
       "      <th>2019-05</th>\n",
       "      <td>507.00</td>\n",
       "      <td>488.50</td>\n",
       "      <td>526.50</td>\n",
       "      <td>-19.50</td>\n",
       "      <td>-12.75</td>\n",
       "    </tr>\n",
       "  </tbody>\n",
       "</table>\n",
       "</div>"
      ],
      "text/plain": [
       "         month_start  month_end  lag_end    gap  cum_gap\n",
       "Month                                                   \n",
       "2019-01       523.50     538.75      NaN   0.00     0.00\n",
       "2019-02       562.75     551.00   538.75  24.00    24.00\n",
       "2019-03       537.50     522.25   551.00 -13.50    10.50\n",
       "2019-04       518.50     526.50   522.25  -3.75     6.75\n",
       "2019-05       507.00     488.50   526.50 -19.50   -12.75"
      ]
     },
     "execution_count": 76,
     "metadata": {},
     "output_type": "execute_result"
    }
   ],
   "source": [
    "# create month gap by subtracting row i ending value from row i+1 starting value\n",
    "month_gap[\"gap\"] = month_gap[\"month_start\"] - month_gap[\"lag_end\"]\n",
    "\n",
    "# first `lag_end` value is NaN, so I'm replacing with 0\n",
    "month_gap.at[month_gap.index[0], \"gap\"] = 0\n",
    "\n",
    "# create cumulative month gap\n",
    "month_gap[\"cum_gap\"] = month_gap[\"gap\"].cumsum()\n",
    "\n",
    "# print head\n",
    "month_gap.head()"
   ]
  },
  {
   "cell_type": "code",
   "execution_count": 77,
   "metadata": {},
   "outputs": [
    {
     "data": {
      "text/html": [
       "<div>\n",
       "<style scoped>\n",
       "    .dataframe tbody tr th:only-of-type {\n",
       "        vertical-align: middle;\n",
       "    }\n",
       "\n",
       "    .dataframe tbody tr th {\n",
       "        vertical-align: top;\n",
       "    }\n",
       "\n",
       "    .dataframe thead th {\n",
       "        text-align: right;\n",
       "    }\n",
       "</style>\n",
       "<table border=\"1\" class=\"dataframe\">\n",
       "  <thead>\n",
       "    <tr style=\"text-align: right;\">\n",
       "      <th></th>\n",
       "      <th>price</th>\n",
       "      <th>Month</th>\n",
       "    </tr>\n",
       "    <tr>\n",
       "      <th>Time</th>\n",
       "      <th></th>\n",
       "      <th></th>\n",
       "    </tr>\n",
       "  </thead>\n",
       "  <tbody>\n",
       "    <tr>\n",
       "      <th>2019-01-02</th>\n",
       "      <td>523.50</td>\n",
       "      <td>2019-01</td>\n",
       "    </tr>\n",
       "    <tr>\n",
       "      <th>2019-01-03</th>\n",
       "      <td>519.25</td>\n",
       "      <td>2019-01</td>\n",
       "    </tr>\n",
       "    <tr>\n",
       "      <th>2019-01-04</th>\n",
       "      <td>524.50</td>\n",
       "      <td>2019-01</td>\n",
       "    </tr>\n",
       "    <tr>\n",
       "      <th>2019-01-07</th>\n",
       "      <td>524.75</td>\n",
       "      <td>2019-01</td>\n",
       "    </tr>\n",
       "    <tr>\n",
       "      <th>2019-01-08</th>\n",
       "      <td>528.75</td>\n",
       "      <td>2019-01</td>\n",
       "    </tr>\n",
       "  </tbody>\n",
       "</table>\n",
       "</div>"
      ],
      "text/plain": [
       "             price    Month\n",
       "Time                       \n",
       "2019-01-02  523.50  2019-01\n",
       "2019-01-03  519.25  2019-01\n",
       "2019-01-04  524.50  2019-01\n",
       "2019-01-07  524.75  2019-01\n",
       "2019-01-08  528.75  2019-01"
      ]
     },
     "execution_count": 77,
     "metadata": {},
     "output_type": "execute_result"
    }
   ],
   "source": [
    "palm_futures.head()"
   ]
  },
  {
   "cell_type": "code",
   "execution_count": 78,
   "metadata": {},
   "outputs": [
    {
     "data": {
      "text/html": [
       "<div>\n",
       "<style scoped>\n",
       "    .dataframe tbody tr th:only-of-type {\n",
       "        vertical-align: middle;\n",
       "    }\n",
       "\n",
       "    .dataframe tbody tr th {\n",
       "        vertical-align: top;\n",
       "    }\n",
       "\n",
       "    .dataframe thead th {\n",
       "        text-align: right;\n",
       "    }\n",
       "</style>\n",
       "<table border=\"1\" class=\"dataframe\">\n",
       "  <thead>\n",
       "    <tr style=\"text-align: right;\">\n",
       "      <th></th>\n",
       "      <th>Time</th>\n",
       "      <th>price</th>\n",
       "      <th>Month</th>\n",
       "      <th>month_start</th>\n",
       "      <th>month_end</th>\n",
       "      <th>lag_end</th>\n",
       "      <th>gap</th>\n",
       "      <th>cum_gap</th>\n",
       "    </tr>\n",
       "  </thead>\n",
       "  <tbody>\n",
       "    <tr>\n",
       "      <th>0</th>\n",
       "      <td>2019-01-02</td>\n",
       "      <td>523.50</td>\n",
       "      <td>2019-01</td>\n",
       "      <td>523.5</td>\n",
       "      <td>538.75</td>\n",
       "      <td>NaN</td>\n",
       "      <td>0.0</td>\n",
       "      <td>0.0</td>\n",
       "    </tr>\n",
       "    <tr>\n",
       "      <th>1</th>\n",
       "      <td>2019-01-03</td>\n",
       "      <td>519.25</td>\n",
       "      <td>2019-01</td>\n",
       "      <td>523.5</td>\n",
       "      <td>538.75</td>\n",
       "      <td>NaN</td>\n",
       "      <td>0.0</td>\n",
       "      <td>0.0</td>\n",
       "    </tr>\n",
       "    <tr>\n",
       "      <th>2</th>\n",
       "      <td>2019-01-04</td>\n",
       "      <td>524.50</td>\n",
       "      <td>2019-01</td>\n",
       "      <td>523.5</td>\n",
       "      <td>538.75</td>\n",
       "      <td>NaN</td>\n",
       "      <td>0.0</td>\n",
       "      <td>0.0</td>\n",
       "    </tr>\n",
       "    <tr>\n",
       "      <th>3</th>\n",
       "      <td>2019-01-07</td>\n",
       "      <td>524.75</td>\n",
       "      <td>2019-01</td>\n",
       "      <td>523.5</td>\n",
       "      <td>538.75</td>\n",
       "      <td>NaN</td>\n",
       "      <td>0.0</td>\n",
       "      <td>0.0</td>\n",
       "    </tr>\n",
       "    <tr>\n",
       "      <th>4</th>\n",
       "      <td>2019-01-08</td>\n",
       "      <td>528.75</td>\n",
       "      <td>2019-01</td>\n",
       "      <td>523.5</td>\n",
       "      <td>538.75</td>\n",
       "      <td>NaN</td>\n",
       "      <td>0.0</td>\n",
       "      <td>0.0</td>\n",
       "    </tr>\n",
       "  </tbody>\n",
       "</table>\n",
       "</div>"
      ],
      "text/plain": [
       "        Time   price    Month  month_start  month_end  lag_end  gap  cum_gap\n",
       "0 2019-01-02  523.50  2019-01        523.5     538.75      NaN  0.0      0.0\n",
       "1 2019-01-03  519.25  2019-01        523.5     538.75      NaN  0.0      0.0\n",
       "2 2019-01-04  524.50  2019-01        523.5     538.75      NaN  0.0      0.0\n",
       "3 2019-01-07  524.75  2019-01        523.5     538.75      NaN  0.0      0.0\n",
       "4 2019-01-08  528.75  2019-01        523.5     538.75      NaN  0.0      0.0"
      ]
     },
     "execution_count": 78,
     "metadata": {},
     "output_type": "execute_result"
    }
   ],
   "source": [
    "# merge the month_gap dataframe onto palm_futures\n",
    "palm_futures = palm_futures.reset_index().merge(month_gap, on = \"Month\")\n",
    "\n",
    "palm_futures.head()"
   ]
  },
  {
   "cell_type": "code",
   "execution_count": 79,
   "metadata": {},
   "outputs": [],
   "source": [
    "# calculate synthetic curve from `cuf19` minus cumulative gap\n",
    "palm_futures[\"synthetic_curve\"] = palm_futures[\"price\"] - palm_futures[\"cum_gap\"]"
   ]
  },
  {
   "cell_type": "code",
   "execution_count": 80,
   "metadata": {},
   "outputs": [
    {
     "data": {
      "image/png": "[encoded data removed]",
      "text/plain": [
       "<Figure size 1000x600 with 1 Axes>"
      ]
     },
     "metadata": {},
     "output_type": "display_data"
    }
   ],
   "source": [
    "# Assuming you have a 'synthetic_curve' column in the DataFrame\n",
    "# If not, replace 'synthetic_curve' with the actual column name\n",
    "columns_to_plot = ['price', 'synthetic_curve', \"cum_gap\"]\n",
    "\n",
    "# Plotting\n",
    "plt.figure(figsize=(10, 6))  # Adjust the figure size as needed\n",
    "for col in columns_to_plot:\n",
    "    plt.plot(palm_futures.index, palm_futures[col], label=col)\n",
    "\n",
    "plt.xlabel('Time')\n",
    "plt.ylabel('Value')\n",
    "plt.title('Line Plot of market price, synthetic_curve, cumulative month gaps')\n",
    "plt.legend()\n",
    "plt.grid(True)\n",
    "plt.show()"
   ]
  },
  {
   "cell_type": "code",
   "execution_count": null,
   "metadata": {},
   "outputs": [],
   "source": []
  }
 ],
 "metadata": {
  "kernelspec": {
   "display_name": "venv",
   "language": "python",
   "name": "python3"
  },
  "language_info": {
   "codemirror_mode": {
    "name": "ipython",
    "version": 3
   },
   "file_extension": ".py",
   "mimetype": "text/x-python",
   "name": "python",
   "nbconvert_exporter": "python",
   "pygments_lexer": "ipython3",
   "version": "3.10.11"
  },
  "orig_nbformat": 4,
  "vscode": {
   "interpreter": {
    "hash": "441e36f024e8a55e90f606324dd58f02228c0711eaff92105ca1c162a0f3b45a"
   }
  }
 },
 "nbformat": 4,
 "nbformat_minor": 2
}
